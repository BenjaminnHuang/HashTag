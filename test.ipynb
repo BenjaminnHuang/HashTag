{
 "cells": [
  {
   "cell_type": "code",
   "execution_count": 48,
   "metadata": {},
   "outputs": [
    {
     "data": {
      "text/plain": [
       "['SenToniAtkins',\n",
       " 'BenAllenCA',\n",
       " 'SenBobArchuleta',\n",
       " 'JoshBeckerSV',\n",
       " 'stevebradford',\n",
       " 'CASenCaballero',\n",
       " 'davecortese2020',\n",
       " 'BillDoddCA',\n",
       " 'MariaEDurazo',\n",
       " 'susaneggman',\n",
       " 'steve_glazer',\n",
       " 'sengonzalez_33',\n",
       " 'hertziela',\n",
       " 'benhueso',\n",
       " 'Senator_Hurtado',\n",
       " 'sydneykamlager',\n",
       " 'Laird4CASenate',\n",
       " 'ConnieMLeyva',\n",
       " 'smoniquelimon',\n",
       " 'ilike_mike',\n",
       " 'DaveMinCA',\n",
       " 'joshnewmanca',\n",
       " 'DrPanMD',\n",
       " 'Portantino',\n",
       " '@roth4senate',\n",
       " 'SenSusanRubio',\n",
       " 'NancySkinnerCA',\n",
       " 'HenrySternCA',\n",
       " 'SenatorUmberg',\n",
       " 'BobWieckowskiCA',\n",
       " 'scott_wiener']"
      ]
     },
     "execution_count": 48,
     "metadata": {},
     "output_type": "execute_result"
    }
   ],
   "source": [
    "import requests\n",
    "from bs4 import BeautifulSoup\n",
    "\n",
    "page = requests.get(\"https://cadem.org/state-senate/\")\n",
    "soup = BeautifulSoup(page.content, 'html.parser')\n",
    "\n",
    "myDivs = soup.find_all(\"div\", {\"class\" : \"apollo-candidate-socialicon apollo-candidate-socialtwitter\"})\n",
    "\n",
    "link = []\n",
    "\n",
    "#getting all the twitter account links of the candidates\n",
    "for links in myDivs:\n",
    "    for all_link in links.find_all('a', href=True):\n",
    "        link.append(all_link['href'])\n",
    "\n",
    "twID = []\n",
    "\n",
    "#getting twitter id\n",
    "for usr in link:\n",
    "    result = usr.split('/')[3]\n",
    "    result = result.split('?')\n",
    "    twID.append(result[0])\n",
    "\n",
    "\n",
    "twID\n",
    "\n",
    "\n",
    "\n",
    "\n"
   ]
  },
  {
   "cell_type": "code",
   "execution_count": null,
   "metadata": {},
   "outputs": [],
   "source": []
  }
 ],
 "metadata": {
  "kernelspec": {
   "display_name": "Python 3.10.8 64-bit (microsoft store)",
   "language": "python",
   "name": "python3"
  },
  "language_info": {
   "codemirror_mode": {
    "name": "ipython",
    "version": 3
   },
   "file_extension": ".py",
   "mimetype": "text/x-python",
   "name": "python",
   "nbconvert_exporter": "python",
   "pygments_lexer": "ipython3",
   "version": "3.10.8"
  },
  "orig_nbformat": 4,
  "vscode": {
   "interpreter": {
    "hash": "a9f1f59101e07bffb7c2ecfaca1a3c7ffe3cd326ee75e914ab1b038684b38c5a"
   }
  }
 },
 "nbformat": 4,
 "nbformat_minor": 2
}
