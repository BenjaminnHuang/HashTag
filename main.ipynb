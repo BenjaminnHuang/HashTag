{
 "cells": [
  {
   "cell_type": "code",
   "execution_count": 1,
   "metadata": {},
   "outputs": [],
   "source": [
    "import tweepy\n",
    "import pandas as pd\n",
    "import requests\n",
    "from bs4 import BeautifulSoup\n",
    "from urllib.request import Request, urlopen"
   ]
  },
  {
   "cell_type": "code",
   "execution_count": 13,
   "metadata": {},
   "outputs": [],
   "source": [
    "consumer_key = 'Wc46qw5CVy9JQ2DOzgIlYkKlG'\n",
    "consumer_secret = 'sNTQZl18KGowmHDHFJqPgJoq8M3SVtGe8RY1UY6ztr9yl8lNAs'\n",
    "access_token = '1584651535933267968-Iq8u3WDEFTGV4IVzoETufQGDGPnwh0'\n",
    "access_token_secret = 'wHqPJ0eLir3OjopC2MPey7S6cKOLux2Z4TYMfZCdu9K6z'\n",
    "\n",
    "auth = tweepy.OAuthHandler(consumer_key, consumer_secret)\n",
    "auth.set_access_token(access_token, access_token_secret)\n",
    "api = tweepy.API(auth)"
   ]
  },
  {
   "cell_type": "code",
   "execution_count": 11,
   "metadata": {},
   "outputs": [
    {
     "data": {
      "text/plain": [
       "'AsmAguiarCurry'"
      ]
     },
     "execution_count": 11,
     "metadata": {},
     "output_type": "execute_result"
    }
   ],
   "source": [
    "df = pd.read_csv('./assemblyMembers/assemblyMembers_tweets.csv')\n",
    "\n",
    "twAccounts = df['twitter handle'].dropna()\n",
    "twAccounts"
   ]
  },
  {
   "cell_type": "code",
   "execution_count": 15,
   "metadata": {},
   "outputs": [],
   "source": [
    "for userID in twAccounts:\n",
    "    \n",
    "    keywords = 'from:' + userID + ' filter:images'\n",
    "\n",
    "    tweets = tweepy.Cursor(api.search_tweets, q=keywords, lang='en',\n",
    "            count=50, tweet_mode='extended').items(50)\n",
    "\n",
    "    all_tweets = []\n",
    "\n",
    "    for tw in tweets:\n",
    "        all_tweets.append(tw)\n",
    "\n",
    "    outtweets = []\n",
    "\n",
    "    idx = 0\n",
    "\n",
    "    for tweet in all_tweets:\n",
    "\n",
    "        status = api.get_status(tweet.id, include_ext_alt_text=True, tweet_mode='extended')\n",
    "        hasAlt = 'no'\n",
    "        alt = 'None'\n",
    "        if hasattr(status, 'extended_entities'):\n",
    "            alt = status.extended_entities['media'][0]['ext_alt_text']\n",
    "            if(alt == None or ''):\n",
    "                hasAlt = 'no'\n",
    "            else:\n",
    "                hasAlt = 'yes'\n",
    "\n",
    "        temp = []\n",
    "        \n",
    "        temp.append(tweet.id_str)\n",
    "        temp.append(tweet.created_at)\n",
    "        temp.append(tweet.favorite_count)\n",
    "        temp.append(tweet.retweet_count)\n",
    "        temp.append(hasAlt)\n",
    "        temp.append(alt)\n",
    "        temp.append(tweet.full_text.encode(\"utf-8\").decode(\"utf-8\"))\n",
    "\n",
    "        outtweets.append(temp)\n",
    "            \n",
    "        idx += 1\n",
    "\n",
    "    df = pd.DataFrame(outtweets,columns=[\"id\",\"created_at\",\"favorite_count\", \"retweet_count\", 'has alt_text?', 'alt_text', \"text\"])\n",
    "    df.to_csv('tweets/%stest_tweets.csv' % userID,index=False)\n",
    "    df.head(3)\n",
    "        "
   ]
  },
  {
   "cell_type": "code",
   "execution_count": null,
   "metadata": {},
   "outputs": [],
   "source": []
  }
 ],
 "metadata": {
  "kernelspec": {
   "display_name": "Python 3.10.8 64-bit (microsoft store)",
   "language": "python",
   "name": "python3"
  },
  "language_info": {
   "codemirror_mode": {
    "name": "ipython",
    "version": 3
   },
   "file_extension": ".py",
   "mimetype": "text/x-python",
   "name": "python",
   "nbconvert_exporter": "python",
   "pygments_lexer": "ipython3",
   "version": "3.10.8"
  },
  "orig_nbformat": 4,
  "vscode": {
   "interpreter": {
    "hash": "a9f1f59101e07bffb7c2ecfaca1a3c7ffe3cd326ee75e914ab1b038684b38c5a"
   }
  }
 },
 "nbformat": 4,
 "nbformat_minor": 2
}
