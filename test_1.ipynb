{
 "cells": [
  {
   "cell_type": "code",
   "execution_count": 28,
   "metadata": {},
   "outputs": [
    {
     "data": {
      "text/plain": [
       "['AsmAguiarCurry',\n",
       " 'AsmArambula',\n",
       " 'BauerKahan',\n",
       " 'BMaienschein',\n",
       " 'AsmRobertRivas',\n",
       " 'AsmVillapudua']"
      ]
     },
     "execution_count": 28,
     "metadata": {},
     "output_type": "execute_result"
    }
   ],
   "source": [
    "import requests\n",
    "from bs4 import BeautifulSoup\n",
    "import pandas as pd\n",
    "\n",
    "myData = []\n",
    "df = pd.DataFrame(myData, columns=['name', 'party affiliation', 'district', 'twitter links', 'twitter handle'])\n",
    "\n",
    "page = requests.get('https://www.assembly.ca.gov/assemblymembers')\n",
    "soup = BeautifulSoup(page.content, 'html.parser')\n",
    "\n",
    "target = soup.find_all(\"td\", {\"class\" : \"views-field views-field-field-member-lname-sort active\"})\n",
    "\n",
    "links = []\n",
    "for t in target:\n",
    "    res = t.find('a', href=True)\n",
    "    links.append(res['href'])\n",
    "\n",
    "links\n",
    "new_page = []\n",
    "for li in links:\n",
    "    p = requests.get(li)\n",
    "    new_page.append(BeautifulSoup(p.content, 'html.parser'))\n",
    "\n",
    "twAccount = []\n",
    "\n",
    "for p in new_page:\n",
    "    t = p.find('div', {'id' : 'block-connectwithus'})\n",
    "    if t is not None:\n",
    "        t = t.find_all('a', href=True)\n",
    "\n",
    "        result = t[1]['href'].split('/')[3]\n",
    "        result = result.replace('@', '')\n",
    "        twAccount.append(result)\n",
    "\n",
    "twAccount"
   ]
  },
  {
   "cell_type": "code",
   "execution_count": null,
   "metadata": {},
   "outputs": [],
   "source": []
  }
 ],
 "metadata": {
  "kernelspec": {
   "display_name": "Python 3.10.8 64-bit (microsoft store)",
   "language": "python",
   "name": "python3"
  },
  "language_info": {
   "codemirror_mode": {
    "name": "ipython",
    "version": 3
   },
   "file_extension": ".py",
   "mimetype": "text/x-python",
   "name": "python",
   "nbconvert_exporter": "python",
   "pygments_lexer": "ipython3",
   "version": "3.10.8"
  },
  "orig_nbformat": 4,
  "vscode": {
   "interpreter": {
    "hash": "a9f1f59101e07bffb7c2ecfaca1a3c7ffe3cd326ee75e914ab1b038684b38c5a"
   }
  }
 },
 "nbformat": 4,
 "nbformat_minor": 2
}
